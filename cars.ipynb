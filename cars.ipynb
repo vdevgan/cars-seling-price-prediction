{
 "cells": [
  {
   "cell_type": "code",
   "execution_count": 3,
   "metadata": {},
   "outputs": [],
   "source": [
    "import matplotlib.pyplot as plt\n",
    "from matplotlib import style\n",
    "style.use('ggplot')\n",
    "import numpy as np\n",
    "from sklearn.cluster import KMeans\n",
    "from sklearn import preprocessing, cross_validation, neighbors, svm, linear_model\n",
    "from sklearn.ensemble import RandomForestRegressor\n",
    "\n",
    "import pandas as pd\n",
    "\n"
   ]
  },
  {
   "cell_type": "code",
   "execution_count": 4,
   "metadata": {},
   "outputs": [
    {
     "name": "stdout",
     "output_type": "stream",
     "text": [
      "              price  yearOfRegistration        powerPS      kilometer  \\\n",
      "count  3.715280e+05       371528.000000  371528.000000  371528.000000   \n",
      "mean   1.729514e+04         2004.577997     115.549477  125618.688228   \n",
      "std    3.587954e+06           92.866598     192.139578   40112.337051   \n",
      "min    0.000000e+00         1000.000000       0.000000    5000.000000   \n",
      "25%    1.150000e+03         1999.000000      70.000000  125000.000000   \n",
      "50%    2.950000e+03         2003.000000     105.000000  150000.000000   \n",
      "75%    7.200000e+03         2008.000000     150.000000  150000.000000   \n",
      "max    2.147484e+09         9999.000000   20000.000000  150000.000000   \n",
      "\n",
      "       monthOfRegistration  nrOfPictures    postalCode  \n",
      "count        371528.000000      371528.0  371528.00000  \n",
      "mean              5.734445           0.0   50820.66764  \n",
      "std               3.712412           0.0   25799.08247  \n",
      "min               0.000000           0.0    1067.00000  \n",
      "25%               3.000000           0.0   30459.00000  \n",
      "50%               6.000000           0.0   49610.00000  \n",
      "75%               9.000000           0.0   71546.00000  \n",
      "max              12.000000           0.0   99998.00000  \n"
     ]
    }
   ],
   "source": [
    "df = pd.read_csv('auto-copy1.csv', encoding='cp1252')\n",
    "\n",
    "#this gives the columns to be dropped with mean etc close to  -- nrOfPictures\n",
    "print(df.describe())\n",
    "\n"
   ]
  },
  {
   "cell_type": "code",
   "execution_count": 5,
   "metadata": {},
   "outputs": [
    {
     "name": "stdout",
     "output_type": "stream",
     "text": [
      "dateCrawled                0\n",
      "name                       0\n",
      "seller                     0\n",
      "offerType                  0\n",
      "price                      0\n",
      "abtest                     0\n",
      "vehicleType            37869\n",
      "yearOfRegistration         0\n",
      "gearbox                20209\n",
      "powerPS                    0\n",
      "model                  20484\n",
      "kilometer                  0\n",
      "monthOfRegistration        0\n",
      "fuelType               33386\n",
      "brand                      0\n",
      "notRepairedDamage      72060\n",
      "dateCreated                0\n",
      "nrOfPictures               0\n",
      "postalCode                 0\n",
      "lastSeen                   0\n",
      "dtype: int64\n"
     ]
    }
   ],
   "source": [
    "print(df.isnull().sum())\n",
    "#This shows how many entries are null and what should we do with them"
   ]
  },
  {
   "cell_type": "code",
   "execution_count": 6,
   "metadata": {},
   "outputs": [
    {
     "name": "stdout",
     "output_type": "stream",
     "text": [
      "['privat' 'gewerblich']\n"
     ]
    }
   ],
   "source": [
    "print(df.seller.unique())"
   ]
  },
  {
   "cell_type": "code",
   "execution_count": 7,
   "metadata": {},
   "outputs": [
    {
     "name": "stdout",
     "output_type": "stream",
     "text": [
      "seller\n",
      "gewerblich         3\n",
      "privat        371525\n",
      "dtype: int64\n"
     ]
    }
   ],
   "source": [
    "print(df.groupby('seller').size())"
   ]
  },
  {
   "cell_type": "code",
   "execution_count": 8,
   "metadata": {},
   "outputs": [
    {
     "name": "stdout",
     "output_type": "stream",
     "text": [
      "['Angebot' 'Gesuch']\n"
     ]
    }
   ],
   "source": [
    "print(df.offerType.unique())"
   ]
  },
  {
   "cell_type": "code",
   "execution_count": 9,
   "metadata": {},
   "outputs": [
    {
     "name": "stdout",
     "output_type": "stream",
     "text": [
      "['test' 'control']\n"
     ]
    }
   ],
   "source": [
    "print(df.abtest.unique())"
   ]
  },
  {
   "cell_type": "code",
   "execution_count": 10,
   "metadata": {},
   "outputs": [
    {
     "name": "stdout",
     "output_type": "stream",
     "text": [
      "offerType\n",
      "Angebot    371516\n",
      "Gesuch         12\n",
      "dtype: int64\n"
     ]
    }
   ],
   "source": [
    "print(df.groupby('offerType').size())"
   ]
  },
  {
   "cell_type": "code",
   "execution_count": 11,
   "metadata": {
    "collapsed": true
   },
   "outputs": [],
   "source": [
    "#Drop any columns with too many unique values or too less values - seller, offerType, nrOfPictures\n",
    "df.drop(['seller', 'offerType', 'abtest', 'nrOfPictures', 'dateCreated'], axis='columns', inplace=True)"
   ]
  },
  {
   "cell_type": "code",
   "execution_count": 12,
   "metadata": {},
   "outputs": [
    {
     "name": "stdout",
     "output_type": "stream",
     "text": [
      "Too new: 14680\n",
      "Too old: 289\n",
      "Too cheap: 13320\n",
      "Too expensive:  232\n",
      "Too few km:  0\n",
      "Too many km:  0\n",
      "Too few PS:  41040\n",
      "Too many PS:  835\n",
      "Fuel types:  ['benzin' 'diesel' nan 'lpg' 'andere' 'hybrid' 'cng' 'elektro']\n",
      "Damages:  [nan 'ja' 'nein']\n",
      "Vehicle types:  [nan 'coupe' 'suv' 'kleinwagen' 'limousine' 'cabrio' 'bus' 'kombi' 'andere']\n",
      "Brands:  ['volkswagen' 'audi' 'jeep' 'skoda' 'bmw' 'peugeot' 'ford' 'mazda' 'nissan'\n",
      " 'renault' 'mercedes_benz' 'opel' 'seat' 'citroen' 'honda' 'fiat' 'mini'\n",
      " 'smart' 'hyundai' 'sonstige_autos' 'alfa_romeo' 'subaru' 'volvo'\n",
      " 'mitsubishi' 'kia' 'suzuki' 'lancia' 'porsche' 'toyota' 'chevrolet'\n",
      " 'dacia' 'daihatsu' 'trabant' 'saab' 'chrysler' 'jaguar' 'daewoo' 'rover'\n",
      " 'land_rover' 'lada']\n"
     ]
    }
   ],
   "source": [
    "print(\"Too new: %d\" % df.loc[df.yearOfRegistration >= 2017].count()['name'])\n",
    "print(\"Too old: %d\" % df.loc[df.yearOfRegistration < 1950].count()['name'])\n",
    "print(\"Too cheap: %d\" % df.loc[df.price < 100].count()['name'])\n",
    "print(\"Too expensive: \" , df.loc[df.price > 150000].count()['name'])\n",
    "print(\"Too few km: \" , df.loc[df.kilometer < 5000].count()['name'])\n",
    "print(\"Too many km: \" , df.loc[df.kilometer > 200000].count()['name'])\n",
    "print(\"Too few PS: \" , df.loc[df.powerPS < 10].count()['name'])\n",
    "print(\"Too many PS: \" , df.loc[df.powerPS > 500].count()['name'])\n",
    "print(\"Fuel types: \" , df['fuelType'].unique())\n",
    "\n",
    "print(\"Damages: \" , df['notRepairedDamage'].unique())\n",
    "#print(\"Postale codes: \" , df['postalCode'].unique())\n",
    "print(\"Vehicle types: \" , df['vehicleType'].unique())\n",
    "print(\"Brands: \" , df['brand'].unique())\n",
    "\n",
    "# Cleaning data\n",
    "#valid_models = df.dropna()\n",
    "\n",
    "#### Removing the duplicates\n",
    "dedups = df.drop_duplicates(['name','price','vehicleType','yearOfRegistration'\n",
    "                         ,'gearbox','powerPS','model','kilometer','monthOfRegistration','fuelType'\n",
    "                         ,'notRepairedDamage'])\n",
    "\n",
    "#### Removing the outliers\n",
    "dedups = dedups[\n",
    "        (dedups.yearOfRegistration <= 2016) \n",
    "      & (dedups.yearOfRegistration >= 1950) \n",
    "      & (dedups.price >= 100) \n",
    "      & (dedups.powerPS >= 10)  #can remove extra as well based on above calculations\n",
    "      ]"
   ]
  },
  {
   "cell_type": "code",
   "execution_count": 13,
   "metadata": {},
   "outputs": [
    {
     "name": "stdout",
     "output_type": "stream",
     "text": [
      "82.1006761267\n"
     ]
    }
   ],
   "source": [
    "print(100*dedups['name'].count()/df['name'].count())\n",
    "#82% of the original datset is left to be analysed"
   ]
  },
  {
   "cell_type": "code",
   "execution_count": 14,
   "metadata": {},
   "outputs": [
    {
     "data": {
      "text/plain": [
       "dateCrawled                0\n",
       "name                       0\n",
       "price                      0\n",
       "vehicleType            10855\n",
       "yearOfRegistration         0\n",
       "gearbox                 5302\n",
       "powerPS                    0\n",
       "model                  11480\n",
       "kilometer                  0\n",
       "monthOfRegistration        0\n",
       "fuelType               15494\n",
       "brand                      0\n",
       "notRepairedDamage      42281\n",
       "postalCode                 0\n",
       "lastSeen                   0\n",
       "dtype: int64"
      ]
     },
     "execution_count": 14,
     "metadata": {},
     "output_type": "execute_result"
    }
   ],
   "source": [
    "dedups.isnull().sum()\n",
    "#Now replace na values by what you think is the best replacement"
   ]
  },
  {
   "cell_type": "code",
   "execution_count": 15,
   "metadata": {
    "collapsed": true
   },
   "outputs": [],
   "source": [
    "dedups['notRepairedDamage'].fillna(value='not-declared', inplace=True)\n",
    "dedups['fuelType'].fillna(value='not-declared', inplace=True)\n",
    "dedups['gearbox'].fillna(value='not-declared', inplace=True)\n",
    "dedups['vehicleType'].fillna(value='not-declared', inplace=True)\n",
    "dedups['model'].fillna(value='not-declared', inplace=True)"
   ]
  },
  {
   "cell_type": "code",
   "execution_count": 16,
   "metadata": {},
   "outputs": [
    {
     "data": {
      "text/plain": [
       "<matplotlib.axes._subplots.AxesSubplot at 0x17b68dfe630>"
      ]
     },
     "execution_count": 16,
     "metadata": {},
     "output_type": "execute_result"
    },
    {
     "data": {
      "image/png": "[encoded data removed]",
      "text/plain": [
       "<matplotlib.figure.Figure at 0x17b6fda7208>"
      ]
     },
     "metadata": {},
     "output_type": "display_data"
    }
   ],
   "source": [
    "%matplotlib inline\n",
    "dedups.plot(y='powerPS', kind='hist')\n",
    "#Change the x axis to get better results"
   ]
  },
  {
   "cell_type": "code",
   "execution_count": 17,
   "metadata": {},
   "outputs": [
    {
     "data": {
      "text/html": [
       "<div>\n",
       "<style>\n",
       "    .dataframe thead tr:only-child th {\n",
       "        text-align: right;\n",
       "    }\n",
       "\n",
       "    .dataframe thead th {\n",
       "        text-align: left;\n",
       "    }\n",
       "\n",
       "    .dataframe tbody tr th {\n",
       "        vertical-align: top;\n",
       "    }\n",
       "</style>\n",
       "<table border=\"1\" class=\"dataframe\">\n",
       "  <thead>\n",
       "    <tr style=\"text-align: right;\">\n",
       "      <th></th>\n",
       "      <th>dateCrawled</th>\n",
       "      <th>name</th>\n",
       "      <th>price</th>\n",
       "      <th>vehicleType</th>\n",
       "      <th>yearOfRegistration</th>\n",
       "      <th>gearbox</th>\n",
       "      <th>powerPS</th>\n",
       "      <th>model</th>\n",
       "      <th>kilometer</th>\n",
       "      <th>monthOfRegistration</th>\n",
       "      <th>fuelType</th>\n",
       "      <th>brand</th>\n",
       "      <th>notRepairedDamage</th>\n",
       "      <th>postalCode</th>\n",
       "      <th>lastSeen</th>\n",
       "    </tr>\n",
       "  </thead>\n",
       "  <tbody>\n",
       "    <tr>\n",
       "      <th>1</th>\n",
       "      <td>2016-03-24 10:58:45</td>\n",
       "      <td>A5_Sportback_2.7_Tdi</td>\n",
       "      <td>18300</td>\n",
       "      <td>coupe</td>\n",
       "      <td>2011</td>\n",
       "      <td>manuell</td>\n",
       "      <td>190</td>\n",
       "      <td>not-declared</td>\n",
       "      <td>125000</td>\n",
       "      <td>5</td>\n",
       "      <td>diesel</td>\n",
       "      <td>audi</td>\n",
       "      <td>ja</td>\n",
       "      <td>66954</td>\n",
       "      <td>2016-04-07 01:46:50</td>\n",
       "    </tr>\n",
       "    <tr>\n",
       "      <th>2</th>\n",
       "      <td>2016-03-14 12:52:21</td>\n",
       "      <td>Jeep_Grand_Cherokee_\"Overland\"</td>\n",
       "      <td>9800</td>\n",
       "      <td>suv</td>\n",
       "      <td>2004</td>\n",
       "      <td>automatik</td>\n",
       "      <td>163</td>\n",
       "      <td>grand</td>\n",
       "      <td>125000</td>\n",
       "      <td>8</td>\n",
       "      <td>diesel</td>\n",
       "      <td>jeep</td>\n",
       "      <td>not-declared</td>\n",
       "      <td>90480</td>\n",
       "      <td>2016-04-05 12:47:46</td>\n",
       "    </tr>\n",
       "    <tr>\n",
       "      <th>3</th>\n",
       "      <td>2016-03-17 16:54:04</td>\n",
       "      <td>GOLF_4_1_4__3TÜRER</td>\n",
       "      <td>1500</td>\n",
       "      <td>kleinwagen</td>\n",
       "      <td>2001</td>\n",
       "      <td>manuell</td>\n",
       "      <td>75</td>\n",
       "      <td>golf</td>\n",
       "      <td>150000</td>\n",
       "      <td>6</td>\n",
       "      <td>benzin</td>\n",
       "      <td>volkswagen</td>\n",
       "      <td>nein</td>\n",
       "      <td>91074</td>\n",
       "      <td>2016-03-17 17:40:17</td>\n",
       "    </tr>\n",
       "    <tr>\n",
       "      <th>4</th>\n",
       "      <td>2016-03-31 17:25:20</td>\n",
       "      <td>Skoda_Fabia_1.4_TDI_PD_Classic</td>\n",
       "      <td>3600</td>\n",
       "      <td>kleinwagen</td>\n",
       "      <td>2008</td>\n",
       "      <td>manuell</td>\n",
       "      <td>69</td>\n",
       "      <td>fabia</td>\n",
       "      <td>90000</td>\n",
       "      <td>7</td>\n",
       "      <td>diesel</td>\n",
       "      <td>skoda</td>\n",
       "      <td>nein</td>\n",
       "      <td>60437</td>\n",
       "      <td>2016-04-06 10:17:21</td>\n",
       "    </tr>\n",
       "    <tr>\n",
       "      <th>5</th>\n",
       "      <td>2016-04-04 17:36:23</td>\n",
       "      <td>BMW_316i___e36_Limousine___Bastlerfahrzeug__Ex...</td>\n",
       "      <td>650</td>\n",
       "      <td>limousine</td>\n",
       "      <td>1995</td>\n",
       "      <td>manuell</td>\n",
       "      <td>102</td>\n",
       "      <td>3er</td>\n",
       "      <td>150000</td>\n",
       "      <td>10</td>\n",
       "      <td>benzin</td>\n",
       "      <td>bmw</td>\n",
       "      <td>ja</td>\n",
       "      <td>33775</td>\n",
       "      <td>2016-04-06 19:17:07</td>\n",
       "    </tr>\n",
       "  </tbody>\n",
       "</table>\n",
       "</div>"
      ],
      "text/plain": [
       "           dateCrawled                                               name  \\\n",
       "1  2016-03-24 10:58:45                               A5_Sportback_2.7_Tdi   \n",
       "2  2016-03-14 12:52:21                     Jeep_Grand_Cherokee_\"Overland\"   \n",
       "3  2016-03-17 16:54:04                                 GOLF_4_1_4__3TÜRER   \n",
       "4  2016-03-31 17:25:20                     Skoda_Fabia_1.4_TDI_PD_Classic   \n",
       "5  2016-04-04 17:36:23  BMW_316i___e36_Limousine___Bastlerfahrzeug__Ex...   \n",
       "\n",
       "   price vehicleType  yearOfRegistration    gearbox  powerPS         model  \\\n",
       "1  18300       coupe                2011    manuell      190  not-declared   \n",
       "2   9800         suv                2004  automatik      163         grand   \n",
       "3   1500  kleinwagen                2001    manuell       75          golf   \n",
       "4   3600  kleinwagen                2008    manuell       69         fabia   \n",
       "5    650   limousine                1995    manuell      102           3er   \n",
       "\n",
       "   kilometer  monthOfRegistration fuelType       brand notRepairedDamage  \\\n",
       "1     125000                    5   diesel        audi                ja   \n",
       "2     125000                    8   diesel        jeep      not-declared   \n",
       "3     150000                    6   benzin  volkswagen              nein   \n",
       "4      90000                    7   diesel       skoda              nein   \n",
       "5     150000                   10   benzin         bmw                ja   \n",
       "\n",
       "   postalCode             lastSeen  \n",
       "1       66954  2016-04-07 01:46:50  \n",
       "2       90480  2016-04-05 12:47:46  \n",
       "3       91074  2016-03-17 17:40:17  \n",
       "4       60437  2016-04-06 10:17:21  \n",
       "5       33775  2016-04-06 19:17:07  "
      ]
     },
     "execution_count": 17,
     "metadata": {},
     "output_type": "execute_result"
    }
   ],
   "source": [
    "#cars_updated = dedups.apply(preprocessing.LabelEncoder().fit_transform)\n",
    "dedups.head()"
   ]
  },
  {
   "cell_type": "code",
   "execution_count": 18,
   "metadata": {
    "collapsed": true
   },
   "outputs": [],
   "source": [
    "#Using lastseen and yearOfRegisteration, create a column age (covert last Seen to python time, extract year, subtract yearOfRegisteration)\n",
    "ageCol=[]\n",
    "from dateutil import parser\n",
    "\n",
    "for date in dedups['lastSeen']:\n",
    "    temp=parser.parse(date)\n",
    "    ageCol.append(temp.year)\n",
    "\n",
    "dedups['ageCol']=ageCol-dedups['yearOfRegistration']\n",
    "\n",
    "dedups['ageCol'].describe()\n",
    "\n",
    "#Drop with age  <  0 and more than 50,\n",
    "dedups=dedups[(dedups['ageCol']>1)&(dedups['ageCol']<50)]"
   ]
  },
  {
   "cell_type": "code",
   "execution_count": 19,
   "metadata": {},
   "outputs": [
    {
     "data": {
      "text/html": [
       "<div>\n",
       "<style>\n",
       "    .dataframe thead tr:only-child th {\n",
       "        text-align: right;\n",
       "    }\n",
       "\n",
       "    .dataframe thead th {\n",
       "        text-align: left;\n",
       "    }\n",
       "\n",
       "    .dataframe tbody tr th {\n",
       "        vertical-align: top;\n",
       "    }\n",
       "</style>\n",
       "<table border=\"1\" class=\"dataframe\">\n",
       "  <thead>\n",
       "    <tr style=\"text-align: right;\">\n",
       "      <th></th>\n",
       "      <th>dateCrawled</th>\n",
       "      <th>name</th>\n",
       "      <th>price</th>\n",
       "      <th>vehicleType</th>\n",
       "      <th>yearOfRegistration</th>\n",
       "      <th>gearbox</th>\n",
       "      <th>powerPS</th>\n",
       "      <th>model</th>\n",
       "      <th>kilometer</th>\n",
       "      <th>monthOfRegistration</th>\n",
       "      <th>fuelType</th>\n",
       "      <th>brand</th>\n",
       "      <th>notRepairedDamage</th>\n",
       "      <th>postalCode</th>\n",
       "      <th>lastSeen</th>\n",
       "      <th>ageCol</th>\n",
       "    </tr>\n",
       "  </thead>\n",
       "  <tbody>\n",
       "    <tr>\n",
       "      <th>1</th>\n",
       "      <td>2016-03-24 10:58:45</td>\n",
       "      <td>A5_Sportback_2.7_Tdi</td>\n",
       "      <td>18300</td>\n",
       "      <td>coupe</td>\n",
       "      <td>2011</td>\n",
       "      <td>manuell</td>\n",
       "      <td>190</td>\n",
       "      <td>not-declared</td>\n",
       "      <td>125000</td>\n",
       "      <td>5</td>\n",
       "      <td>diesel</td>\n",
       "      <td>audi</td>\n",
       "      <td>ja</td>\n",
       "      <td>66954</td>\n",
       "      <td>2016-04-07 01:46:50</td>\n",
       "      <td>5</td>\n",
       "    </tr>\n",
       "    <tr>\n",
       "      <th>2</th>\n",
       "      <td>2016-03-14 12:52:21</td>\n",
       "      <td>Jeep_Grand_Cherokee_\"Overland\"</td>\n",
       "      <td>9800</td>\n",
       "      <td>suv</td>\n",
       "      <td>2004</td>\n",
       "      <td>automatik</td>\n",
       "      <td>163</td>\n",
       "      <td>grand</td>\n",
       "      <td>125000</td>\n",
       "      <td>8</td>\n",
       "      <td>diesel</td>\n",
       "      <td>jeep</td>\n",
       "      <td>not-declared</td>\n",
       "      <td>90480</td>\n",
       "      <td>2016-04-05 12:47:46</td>\n",
       "      <td>12</td>\n",
       "    </tr>\n",
       "    <tr>\n",
       "      <th>3</th>\n",
       "      <td>2016-03-17 16:54:04</td>\n",
       "      <td>GOLF_4_1_4__3TÜRER</td>\n",
       "      <td>1500</td>\n",
       "      <td>kleinwagen</td>\n",
       "      <td>2001</td>\n",
       "      <td>manuell</td>\n",
       "      <td>75</td>\n",
       "      <td>golf</td>\n",
       "      <td>150000</td>\n",
       "      <td>6</td>\n",
       "      <td>benzin</td>\n",
       "      <td>volkswagen</td>\n",
       "      <td>nein</td>\n",
       "      <td>91074</td>\n",
       "      <td>2016-03-17 17:40:17</td>\n",
       "      <td>15</td>\n",
       "    </tr>\n",
       "    <tr>\n",
       "      <th>4</th>\n",
       "      <td>2016-03-31 17:25:20</td>\n",
       "      <td>Skoda_Fabia_1.4_TDI_PD_Classic</td>\n",
       "      <td>3600</td>\n",
       "      <td>kleinwagen</td>\n",
       "      <td>2008</td>\n",
       "      <td>manuell</td>\n",
       "      <td>69</td>\n",
       "      <td>fabia</td>\n",
       "      <td>90000</td>\n",
       "      <td>7</td>\n",
       "      <td>diesel</td>\n",
       "      <td>skoda</td>\n",
       "      <td>nein</td>\n",
       "      <td>60437</td>\n",
       "      <td>2016-04-06 10:17:21</td>\n",
       "      <td>8</td>\n",
       "    </tr>\n",
       "    <tr>\n",
       "      <th>5</th>\n",
       "      <td>2016-04-04 17:36:23</td>\n",
       "      <td>BMW_316i___e36_Limousine___Bastlerfahrzeug__Ex...</td>\n",
       "      <td>650</td>\n",
       "      <td>limousine</td>\n",
       "      <td>1995</td>\n",
       "      <td>manuell</td>\n",
       "      <td>102</td>\n",
       "      <td>3er</td>\n",
       "      <td>150000</td>\n",
       "      <td>10</td>\n",
       "      <td>benzin</td>\n",
       "      <td>bmw</td>\n",
       "      <td>ja</td>\n",
       "      <td>33775</td>\n",
       "      <td>2016-04-06 19:17:07</td>\n",
       "      <td>21</td>\n",
       "    </tr>\n",
       "  </tbody>\n",
       "</table>\n",
       "</div>"
      ],
      "text/plain": [
       "           dateCrawled                                               name  \\\n",
       "1  2016-03-24 10:58:45                               A5_Sportback_2.7_Tdi   \n",
       "2  2016-03-14 12:52:21                     Jeep_Grand_Cherokee_\"Overland\"   \n",
       "3  2016-03-17 16:54:04                                 GOLF_4_1_4__3TÜRER   \n",
       "4  2016-03-31 17:25:20                     Skoda_Fabia_1.4_TDI_PD_Classic   \n",
       "5  2016-04-04 17:36:23  BMW_316i___e36_Limousine___Bastlerfahrzeug__Ex...   \n",
       "\n",
       "   price vehicleType  yearOfRegistration    gearbox  powerPS         model  \\\n",
       "1  18300       coupe                2011    manuell      190  not-declared   \n",
       "2   9800         suv                2004  automatik      163         grand   \n",
       "3   1500  kleinwagen                2001    manuell       75          golf   \n",
       "4   3600  kleinwagen                2008    manuell       69         fabia   \n",
       "5    650   limousine                1995    manuell      102           3er   \n",
       "\n",
       "   kilometer  monthOfRegistration fuelType       brand notRepairedDamage  \\\n",
       "1     125000                    5   diesel        audi                ja   \n",
       "2     125000                    8   diesel        jeep      not-declared   \n",
       "3     150000                    6   benzin  volkswagen              nein   \n",
       "4      90000                    7   diesel       skoda              nein   \n",
       "5     150000                   10   benzin         bmw                ja   \n",
       "\n",
       "   postalCode             lastSeen  ageCol  \n",
       "1       66954  2016-04-07 01:46:50       5  \n",
       "2       90480  2016-04-05 12:47:46      12  \n",
       "3       91074  2016-03-17 17:40:17      15  \n",
       "4       60437  2016-04-06 10:17:21       8  \n",
       "5       33775  2016-04-06 19:17:07      21  "
      ]
     },
     "execution_count": 19,
     "metadata": {},
     "output_type": "execute_result"
    }
   ],
   "source": [
    "dedups.head()"
   ]
  },
  {
   "cell_type": "code",
   "execution_count": null,
   "metadata": {},
   "outputs": [],
   "source": []
  },
  {
   "cell_type": "code",
   "execution_count": 20,
   "metadata": {},
   "outputs": [
    {
     "data": {
      "text/html": [
       "<div>\n",
       "<style>\n",
       "    .dataframe thead tr:only-child th {\n",
       "        text-align: right;\n",
       "    }\n",
       "\n",
       "    .dataframe thead th {\n",
       "        text-align: left;\n",
       "    }\n",
       "\n",
       "    .dataframe tbody tr th {\n",
       "        vertical-align: top;\n",
       "    }\n",
       "</style>\n",
       "<table border=\"1\" class=\"dataframe\">\n",
       "  <thead>\n",
       "    <tr style=\"text-align: right;\">\n",
       "      <th></th>\n",
       "      <th>dateCrawled</th>\n",
       "      <th>name</th>\n",
       "      <th>price</th>\n",
       "      <th>vehicleType</th>\n",
       "      <th>yearOfRegistration</th>\n",
       "      <th>gearbox</th>\n",
       "      <th>powerPS</th>\n",
       "      <th>model</th>\n",
       "      <th>kilometer</th>\n",
       "      <th>monthOfRegistration</th>\n",
       "      <th>fuelType</th>\n",
       "      <th>brand</th>\n",
       "      <th>notRepairedDamage</th>\n",
       "      <th>postalCode</th>\n",
       "      <th>lastSeen</th>\n",
       "      <th>ageCol</th>\n",
       "    </tr>\n",
       "  </thead>\n",
       "  <tbody>\n",
       "    <tr>\n",
       "      <th>count</th>\n",
       "      <td>295243.000000</td>\n",
       "      <td>295243.000000</td>\n",
       "      <td>295243.000000</td>\n",
       "      <td>295243.000000</td>\n",
       "      <td>295243.000000</td>\n",
       "      <td>295243.000000</td>\n",
       "      <td>295243.000000</td>\n",
       "      <td>295243.000000</td>\n",
       "      <td>295243.000000</td>\n",
       "      <td>295243.000000</td>\n",
       "      <td>295243.000000</td>\n",
       "      <td>295243.000000</td>\n",
       "      <td>295243.000000</td>\n",
       "      <td>295243.000000</td>\n",
       "      <td>295243.000000</td>\n",
       "      <td>295243.000000</td>\n",
       "    </tr>\n",
       "    <tr>\n",
       "      <th>mean</th>\n",
       "      <td>118428.275776</td>\n",
       "      <td>91331.463442</td>\n",
       "      <td>1415.529764</td>\n",
       "      <td>4.488313</td>\n",
       "      <td>35.845084</td>\n",
       "      <td>0.794898</td>\n",
       "      <td>116.923825</td>\n",
       "      <td>101.758958</td>\n",
       "      <td>10.548477</td>\n",
       "      <td>6.035334</td>\n",
       "      <td>1.962451</td>\n",
       "      <td>20.434208</td>\n",
       "      <td>1.040577</td>\n",
       "      <td>3687.466484</td>\n",
       "      <td>101230.752042</td>\n",
       "      <td>11.154916</td>\n",
       "    </tr>\n",
       "    <tr>\n",
       "      <th>std</th>\n",
       "      <td>68303.166164</td>\n",
       "      <td>53135.899081</td>\n",
       "      <td>1062.976988</td>\n",
       "      <td>1.791465</td>\n",
       "      <td>6.269060</td>\n",
       "      <td>0.441944</td>\n",
       "      <td>62.411300</td>\n",
       "      <td>71.287882</td>\n",
       "      <td>2.665597</td>\n",
       "      <td>3.563040</td>\n",
       "      <td>1.511016</td>\n",
       "      <td>13.432752</td>\n",
       "      <td>0.474279</td>\n",
       "      <td>2019.630095</td>\n",
       "      <td>46378.311537</td>\n",
       "      <td>6.269060</td>\n",
       "    </tr>\n",
       "    <tr>\n",
       "      <th>min</th>\n",
       "      <td>0.000000</td>\n",
       "      <td>0.000000</td>\n",
       "      <td>0.000000</td>\n",
       "      <td>0.000000</td>\n",
       "      <td>0.000000</td>\n",
       "      <td>0.000000</td>\n",
       "      <td>0.000000</td>\n",
       "      <td>0.000000</td>\n",
       "      <td>0.000000</td>\n",
       "      <td>0.000000</td>\n",
       "      <td>0.000000</td>\n",
       "      <td>0.000000</td>\n",
       "      <td>0.000000</td>\n",
       "      <td>0.000000</td>\n",
       "      <td>0.000000</td>\n",
       "      <td>0.000000</td>\n",
       "    </tr>\n",
       "    <tr>\n",
       "      <th>25%</th>\n",
       "      <td>59224.500000</td>\n",
       "      <td>45284.000000</td>\n",
       "      <td>545.000000</td>\n",
       "      <td>4.000000</td>\n",
       "      <td>32.000000</td>\n",
       "      <td>1.000000</td>\n",
       "      <td>70.000000</td>\n",
       "      <td>40.000000</td>\n",
       "      <td>10.000000</td>\n",
       "      <td>3.000000</td>\n",
       "      <td>1.000000</td>\n",
       "      <td>9.000000</td>\n",
       "      <td>1.000000</td>\n",
       "      <td>2192.000000</td>\n",
       "      <td>62873.500000</td>\n",
       "      <td>7.000000</td>\n",
       "    </tr>\n",
       "    <tr>\n",
       "      <th>50%</th>\n",
       "      <td>118587.000000</td>\n",
       "      <td>90481.000000</td>\n",
       "      <td>1147.000000</td>\n",
       "      <td>5.000000</td>\n",
       "      <td>36.000000</td>\n",
       "      <td>1.000000</td>\n",
       "      <td>106.000000</td>\n",
       "      <td>99.000000</td>\n",
       "      <td>12.000000</td>\n",
       "      <td>6.000000</td>\n",
       "      <td>1.000000</td>\n",
       "      <td>23.000000</td>\n",
       "      <td>1.000000</td>\n",
       "      <td>3494.000000</td>\n",
       "      <td>124216.000000</td>\n",
       "      <td>11.000000</td>\n",
       "    </tr>\n",
       "    <tr>\n",
       "      <th>75%</th>\n",
       "      <td>177680.500000</td>\n",
       "      <td>136943.000000</td>\n",
       "      <td>2098.000000</td>\n",
       "      <td>6.000000</td>\n",
       "      <td>40.000000</td>\n",
       "      <td>1.000000</td>\n",
       "      <td>140.000000</td>\n",
       "      <td>162.000000</td>\n",
       "      <td>12.000000</td>\n",
       "      <td>9.000000</td>\n",
       "      <td>3.000000</td>\n",
       "      <td>33.000000</td>\n",
       "      <td>1.000000</td>\n",
       "      <td>5056.000000</td>\n",
       "      <td>139865.000000</td>\n",
       "      <td>15.000000</td>\n",
       "    </tr>\n",
       "    <tr>\n",
       "      <th>max</th>\n",
       "      <td>236218.000000</td>\n",
       "      <td>182651.000000</td>\n",
       "      <td>5122.000000</td>\n",
       "      <td>8.000000</td>\n",
       "      <td>47.000000</td>\n",
       "      <td>2.000000</td>\n",
       "      <td>732.000000</td>\n",
       "      <td>249.000000</td>\n",
       "      <td>12.000000</td>\n",
       "      <td>12.000000</td>\n",
       "      <td>7.000000</td>\n",
       "      <td>39.000000</td>\n",
       "      <td>2.000000</td>\n",
       "      <td>8114.000000</td>\n",
       "      <td>150084.000000</td>\n",
       "      <td>47.000000</td>\n",
       "    </tr>\n",
       "  </tbody>\n",
       "</table>\n",
       "</div>"
      ],
      "text/plain": [
       "         dateCrawled           name          price    vehicleType  \\\n",
       "count  295243.000000  295243.000000  295243.000000  295243.000000   \n",
       "mean   118428.275776   91331.463442    1415.529764       4.488313   \n",
       "std     68303.166164   53135.899081    1062.976988       1.791465   \n",
       "min         0.000000       0.000000       0.000000       0.000000   \n",
       "25%     59224.500000   45284.000000     545.000000       4.000000   \n",
       "50%    118587.000000   90481.000000    1147.000000       5.000000   \n",
       "75%    177680.500000  136943.000000    2098.000000       6.000000   \n",
       "max    236218.000000  182651.000000    5122.000000       8.000000   \n",
       "\n",
       "       yearOfRegistration        gearbox        powerPS          model  \\\n",
       "count       295243.000000  295243.000000  295243.000000  295243.000000   \n",
       "mean            35.845084       0.794898     116.923825     101.758958   \n",
       "std              6.269060       0.441944      62.411300      71.287882   \n",
       "min              0.000000       0.000000       0.000000       0.000000   \n",
       "25%             32.000000       1.000000      70.000000      40.000000   \n",
       "50%             36.000000       1.000000     106.000000      99.000000   \n",
       "75%             40.000000       1.000000     140.000000     162.000000   \n",
       "max             47.000000       2.000000     732.000000     249.000000   \n",
       "\n",
       "           kilometer  monthOfRegistration       fuelType          brand  \\\n",
       "count  295243.000000        295243.000000  295243.000000  295243.000000   \n",
       "mean       10.548477             6.035334       1.962451      20.434208   \n",
       "std         2.665597             3.563040       1.511016      13.432752   \n",
       "min         0.000000             0.000000       0.000000       0.000000   \n",
       "25%        10.000000             3.000000       1.000000       9.000000   \n",
       "50%        12.000000             6.000000       1.000000      23.000000   \n",
       "75%        12.000000             9.000000       3.000000      33.000000   \n",
       "max        12.000000            12.000000       7.000000      39.000000   \n",
       "\n",
       "       notRepairedDamage     postalCode       lastSeen         ageCol  \n",
       "count      295243.000000  295243.000000  295243.000000  295243.000000  \n",
       "mean            1.040577    3687.466484  101230.752042      11.154916  \n",
       "std             0.474279    2019.630095   46378.311537       6.269060  \n",
       "min             0.000000       0.000000       0.000000       0.000000  \n",
       "25%             1.000000    2192.000000   62873.500000       7.000000  \n",
       "50%             1.000000    3494.000000  124216.000000      11.000000  \n",
       "75%             1.000000    5056.000000  139865.000000      15.000000  \n",
       "max             2.000000    8114.000000  150084.000000      47.000000  "
      ]
     },
     "execution_count": 20,
     "metadata": {},
     "output_type": "execute_result"
    }
   ],
   "source": [
    "#label encoder\n",
    "z=dedups['price']\n",
    "\n",
    "for cols in dedups.columns:\n",
    "    dedups[cols]=preprocessing.LabelEncoder().fit_transform(dedups[cols])\n",
    "\n",
    "dedups.describe()"
   ]
  },
  {
   "cell_type": "code",
   "execution_count": 21,
   "metadata": {
    "collapsed": true
   },
   "outputs": [],
   "source": [
    "X=dedups.drop(['price'],1)\n",
    "\n",
    "col=dedups.columns\n",
    "\n",
    "X1=preprocessing.scale(X)"
   ]
  },
  {
   "cell_type": "code",
   "execution_count": 22,
   "metadata": {
    "collapsed": true
   },
   "outputs": [],
   "source": [
    "X_train, X_test, Z_train, Z_test=cross_validation.train_test_split(X1,z,test_size=.2)"
   ]
  },
  {
   "cell_type": "code",
   "execution_count": 42,
   "metadata": {
    "collapsed": true
   },
   "outputs": [
    {
     "data": {
      "text/plain": [
       "256524    2862\n",
       "75227     2814\n",
       "337570    1820\n",
       "148028    1129\n",
       "144917    2858\n",
       "173603     386\n",
       "190399    2836\n",
       "367661    2070\n",
       "232010    1254\n",
       "108117     733\n",
       "354591    3097\n",
       "208938    2708\n",
       "318378    1711\n",
       "181337    3189\n",
       "71289     1563\n",
       "103106    1357\n",
       "252174    4103\n",
       "364823     176\n",
       "274895     323\n",
       "87405     3746\n",
       "365643    3779\n",
       "287272    1719\n",
       "28112     1585\n",
       "113650    1821\n",
       "248651     386\n",
       "144461    2009\n",
       "187101    1657\n",
       "35308      567\n",
       "284753    4153\n",
       "2522      2501\n",
       "          ... \n",
       "185305     360\n",
       "261901    2890\n",
       "71325     1404\n",
       "148984     386\n",
       "177312     212\n",
       "101886     940\n",
       "239279     629\n",
       "311367     755\n",
       "226531     265\n",
       "65661      857\n",
       "160653     673\n",
       "292330     725\n",
       "85485      561\n",
       "62312      857\n",
       "165258    1959\n",
       "84676      323\n",
       "65552      733\n",
       "66038      567\n",
       "16706      530\n",
       "212416    3436\n",
       "324887     401\n",
       "347329    4260\n",
       "251698     182\n",
       "220190    2836\n",
       "83193     2990\n",
       "76724     1022\n",
       "198195     386\n",
       "369367    1254\n",
       "189240    2037\n",
       "193050    1930\n",
       "Name: price, Length: 236194, dtype: int64"
      ]
     },
     "execution_count": 42,
     "metadata": {},
     "output_type": "execute_result"
    }
   ],
   "source": [
    "Z_train"
   ]
  },
  {
   "cell_type": "code",
   "execution_count": 23,
   "metadata": {},
   "outputs": [
    {
     "data": {
      "text/plain": [
       "0.66146900283673826"
      ]
     },
     "execution_count": 23,
     "metadata": {},
     "output_type": "execute_result"
    }
   ],
   "source": [
    "# apply linear regressor\n",
    "model_sklearn=linear_model.LinearRegression()\n",
    "model_sklearn.fit(X_train,Z_train)\n",
    "model_sklearn.score(X_test,Z_test)"
   ]
  },
  {
   "cell_type": "code",
   "execution_count": 24,
   "metadata": {},
   "outputs": [
    {
     "data": {
      "text/plain": [
       "0.91146518666597476"
      ]
     },
     "execution_count": 24,
     "metadata": {},
     "output_type": "execute_result"
    }
   ],
   "source": [
    "#apply random forest\n",
    "rf=RandomForestRegressor()\n",
    "rf.fit(X_train,Z_train)\n",
    "\n",
    "rf.score(X_test,Z_test)"
   ]
  },
  {
   "cell_type": "code",
   "execution_count": 25,
   "metadata": {
    "collapsed": true
   },
   "outputs": [],
   "source": [
    "#Drop some more unimportant features.  drop monthOfRegisteration, postalCode"
   ]
  },
  {
   "cell_type": "code",
   "execution_count": 26,
   "metadata": {
    "collapsed": true
   },
   "outputs": [],
   "source": [
    "dedups=dedups.drop(['lastSeen','monthOfRegistration','dateCrawled','name','postalCode'],1)"
   ]
  },
  {
   "cell_type": "code",
   "execution_count": 27,
   "metadata": {
    "collapsed": true
   },
   "outputs": [],
   "source": [
    "#Run again"
   ]
  },
  {
   "cell_type": "code",
   "execution_count": 28,
   "metadata": {},
   "outputs": [
    {
     "data": {
      "text/plain": [
       "0.90920129098217839"
      ]
     },
     "execution_count": 28,
     "metadata": {},
     "output_type": "execute_result"
    }
   ],
   "source": [
    "X=dedups.drop(['price'],1)\n",
    "\n",
    "col=dedups.columns\n",
    "\n",
    "X1=preprocessing.scale(X)\n",
    "X_train, X_test, Z_train, Z_test=cross_validation.train_test_split(X1,z,test_size=.2)\n",
    "rf.fit(X_train,Z_train)\n",
    "\n",
    "rf.score(X_test,Z_test)"
   ]
  },
  {
   "cell_type": "code",
   "execution_count": 29,
   "metadata": {},
   "outputs": [
    {
     "name": "stdout",
     "output_type": "stream",
     "text": [
      "[ 0.03336835  0.35447109  0.00534574  0.26044718  0.02695838  0.02510338\n",
      "  0.00618468  0.0320694   0.01620067  0.2398511 ]\n",
      "Index(['price', 'vehicleType', 'yearOfRegistration', 'gearbox', 'powerPS',\n",
      "       'model', 'kilometer', 'fuelType', 'brand', 'notRepairedDamage',\n",
      "       'ageCol'],\n",
      "      dtype='object')\n"
     ]
    }
   ],
   "source": [
    "#Find best features using RFE selector or RandomForest selector, use only those to see accuracy now.\n",
    "print(rf.feature_importances_)\n",
    "print(col)"
   ]
  },
  {
   "cell_type": "code",
   "execution_count": 30,
   "metadata": {},
   "outputs": [
    {
     "data": {
      "text/plain": [
       "array([ True,  True, False,  True,  True,  True, False,  True, False,  True], dtype=bool)"
      ]
     },
     "execution_count": 30,
     "metadata": {},
     "output_type": "execute_result"
    }
   ],
   "source": [
    "from sklearn.feature_selection import RFE\n",
    "selector = RFE(rf, 7, step=1)\n",
    "selector = selector.fit(X_train, Z_train)\n",
    "selector.support_ "
   ]
  },
  {
   "cell_type": "code",
   "execution_count": 31,
   "metadata": {},
   "outputs": [
    {
     "data": {
      "text/plain": [
       "array([1, 1, 4, 1, 1, 1, 3, 1, 2, 1])"
      ]
     },
     "execution_count": 31,
     "metadata": {},
     "output_type": "execute_result"
    }
   ],
   "source": [
    "selector.ranking_"
   ]
  },
  {
   "cell_type": "code",
   "execution_count": 32,
   "metadata": {},
   "outputs": [
    {
     "data": {
      "text/html": [
       "<div>\n",
       "<style>\n",
       "    .dataframe thead tr:only-child th {\n",
       "        text-align: right;\n",
       "    }\n",
       "\n",
       "    .dataframe thead th {\n",
       "        text-align: left;\n",
       "    }\n",
       "\n",
       "    .dataframe tbody tr th {\n",
       "        vertical-align: top;\n",
       "    }\n",
       "</style>\n",
       "<table border=\"1\" class=\"dataframe\">\n",
       "  <thead>\n",
       "    <tr style=\"text-align: right;\">\n",
       "      <th></th>\n",
       "      <th>vehicleType</th>\n",
       "      <th>yearOfRegistration</th>\n",
       "      <th>gearbox</th>\n",
       "      <th>powerPS</th>\n",
       "      <th>model</th>\n",
       "      <th>kilometer</th>\n",
       "      <th>fuelType</th>\n",
       "      <th>brand</th>\n",
       "      <th>notRepairedDamage</th>\n",
       "      <th>ageCol</th>\n",
       "    </tr>\n",
       "  </thead>\n",
       "  <tbody>\n",
       "    <tr>\n",
       "      <th>1</th>\n",
       "      <td>3</td>\n",
       "      <td>44</td>\n",
       "      <td>1</td>\n",
       "      <td>180</td>\n",
       "      <td>162</td>\n",
       "      <td>11</td>\n",
       "      <td>3</td>\n",
       "      <td>1</td>\n",
       "      <td>0</td>\n",
       "      <td>3</td>\n",
       "    </tr>\n",
       "    <tr>\n",
       "      <th>2</th>\n",
       "      <td>8</td>\n",
       "      <td>37</td>\n",
       "      <td>0</td>\n",
       "      <td>153</td>\n",
       "      <td>118</td>\n",
       "      <td>11</td>\n",
       "      <td>3</td>\n",
       "      <td>14</td>\n",
       "      <td>2</td>\n",
       "      <td>10</td>\n",
       "    </tr>\n",
       "    <tr>\n",
       "      <th>3</th>\n",
       "      <td>4</td>\n",
       "      <td>34</td>\n",
       "      <td>1</td>\n",
       "      <td>65</td>\n",
       "      <td>117</td>\n",
       "      <td>12</td>\n",
       "      <td>1</td>\n",
       "      <td>38</td>\n",
       "      <td>1</td>\n",
       "      <td>13</td>\n",
       "    </tr>\n",
       "    <tr>\n",
       "      <th>4</th>\n",
       "      <td>4</td>\n",
       "      <td>41</td>\n",
       "      <td>1</td>\n",
       "      <td>59</td>\n",
       "      <td>102</td>\n",
       "      <td>9</td>\n",
       "      <td>3</td>\n",
       "      <td>31</td>\n",
       "      <td>1</td>\n",
       "      <td>6</td>\n",
       "    </tr>\n",
       "    <tr>\n",
       "      <th>5</th>\n",
       "      <td>6</td>\n",
       "      <td>28</td>\n",
       "      <td>1</td>\n",
       "      <td>92</td>\n",
       "      <td>11</td>\n",
       "      <td>12</td>\n",
       "      <td>1</td>\n",
       "      <td>2</td>\n",
       "      <td>0</td>\n",
       "      <td>19</td>\n",
       "    </tr>\n",
       "  </tbody>\n",
       "</table>\n",
       "</div>"
      ],
      "text/plain": [
       "   vehicleType  yearOfRegistration  gearbox  powerPS  model  kilometer  \\\n",
       "1            3                  44        1      180    162         11   \n",
       "2            8                  37        0      153    118         11   \n",
       "3            4                  34        1       65    117         12   \n",
       "4            4                  41        1       59    102          9   \n",
       "5            6                  28        1       92     11         12   \n",
       "\n",
       "   fuelType  brand  notRepairedDamage  ageCol  \n",
       "1         3      1                  0       3  \n",
       "2         3     14                  2      10  \n",
       "3         1     38                  1      13  \n",
       "4         3     31                  1       6  \n",
       "5         1      2                  0      19  "
      ]
     },
     "execution_count": 32,
     "metadata": {},
     "output_type": "execute_result"
    }
   ],
   "source": [
    "X.head()"
   ]
  },
  {
   "cell_type": "code",
   "execution_count": 33,
   "metadata": {},
   "outputs": [],
   "source": [
    "X=dedups[['vehicleType','yearOfRegistration','powerPS','model','kilometer','brand','ageCol']]\n"
   ]
  },
  {
   "cell_type": "code",
   "execution_count": 34,
   "metadata": {},
   "outputs": [
    {
     "data": {
      "text/html": [
       "<div>\n",
       "<style>\n",
       "    .dataframe thead tr:only-child th {\n",
       "        text-align: right;\n",
       "    }\n",
       "\n",
       "    .dataframe thead th {\n",
       "        text-align: left;\n",
       "    }\n",
       "\n",
       "    .dataframe tbody tr th {\n",
       "        vertical-align: top;\n",
       "    }\n",
       "</style>\n",
       "<table border=\"1\" class=\"dataframe\">\n",
       "  <thead>\n",
       "    <tr style=\"text-align: right;\">\n",
       "      <th></th>\n",
       "      <th>vehicleType</th>\n",
       "      <th>yearOfRegistration</th>\n",
       "      <th>powerPS</th>\n",
       "      <th>model</th>\n",
       "      <th>kilometer</th>\n",
       "      <th>brand</th>\n",
       "      <th>ageCol</th>\n",
       "    </tr>\n",
       "  </thead>\n",
       "  <tbody>\n",
       "    <tr>\n",
       "      <th>1</th>\n",
       "      <td>3</td>\n",
       "      <td>44</td>\n",
       "      <td>180</td>\n",
       "      <td>162</td>\n",
       "      <td>11</td>\n",
       "      <td>1</td>\n",
       "      <td>3</td>\n",
       "    </tr>\n",
       "    <tr>\n",
       "      <th>2</th>\n",
       "      <td>8</td>\n",
       "      <td>37</td>\n",
       "      <td>153</td>\n",
       "      <td>118</td>\n",
       "      <td>11</td>\n",
       "      <td>14</td>\n",
       "      <td>10</td>\n",
       "    </tr>\n",
       "    <tr>\n",
       "      <th>3</th>\n",
       "      <td>4</td>\n",
       "      <td>34</td>\n",
       "      <td>65</td>\n",
       "      <td>117</td>\n",
       "      <td>12</td>\n",
       "      <td>38</td>\n",
       "      <td>13</td>\n",
       "    </tr>\n",
       "    <tr>\n",
       "      <th>4</th>\n",
       "      <td>4</td>\n",
       "      <td>41</td>\n",
       "      <td>59</td>\n",
       "      <td>102</td>\n",
       "      <td>9</td>\n",
       "      <td>31</td>\n",
       "      <td>6</td>\n",
       "    </tr>\n",
       "    <tr>\n",
       "      <th>5</th>\n",
       "      <td>6</td>\n",
       "      <td>28</td>\n",
       "      <td>92</td>\n",
       "      <td>11</td>\n",
       "      <td>12</td>\n",
       "      <td>2</td>\n",
       "      <td>19</td>\n",
       "    </tr>\n",
       "  </tbody>\n",
       "</table>\n",
       "</div>"
      ],
      "text/plain": [
       "   vehicleType  yearOfRegistration  powerPS  model  kilometer  brand  ageCol\n",
       "1            3                  44      180    162         11      1       3\n",
       "2            8                  37      153    118         11     14      10\n",
       "3            4                  34       65    117         12     38      13\n",
       "4            4                  41       59    102          9     31       6\n",
       "5            6                  28       92     11         12      2      19"
      ]
     },
     "execution_count": 34,
     "metadata": {},
     "output_type": "execute_result"
    }
   ],
   "source": [
    "X.head()"
   ]
  },
  {
   "cell_type": "code",
   "execution_count": 35,
   "metadata": {},
   "outputs": [
    {
     "data": {
      "text/plain": [
       "0.90139476844832311"
      ]
     },
     "execution_count": 35,
     "metadata": {},
     "output_type": "execute_result"
    }
   ],
   "source": [
    "col=dedups.columns\n",
    "\n",
    "X1=preprocessing.scale(X)\n",
    "X_train, X_test, Z_train, Z_test=cross_validation.train_test_split(X1,z,test_size=.2)\n",
    "rf.fit(X_train,Z_train)\n",
    "#no fall in score\n",
    "rf.score(X_test,Z_test)"
   ]
  },
  {
   "cell_type": "code",
   "execution_count": 36,
   "metadata": {
    "collapsed": true
   },
   "outputs": [],
   "source": [
    "import seaborn as sns\n",
    "def plot_correlation_map( df ):\n",
    "    corr = df.corr()\n",
    "    _ , ax = plt.subplots( figsize =( 12 , 10 ) )\n",
    "    cmap = sns.diverging_palette( 220 , 10 , as_cmap = True )\n",
    "    _ = sns.heatmap(\n",
    "        corr, \n",
    "        cmap = cmap,\n",
    "        square=True, \n",
    "        cbar_kws={ 'shrink' : .9 }, \n",
    "        ax=ax, \n",
    "        annot = True, \n",
    "        annot_kws = { 'fontsize' : 12 }\n",
    "    )"
   ]
  },
  {
   "cell_type": "code",
   "execution_count": 37,
   "metadata": {},
   "outputs": [
    {
     "data": {
      "text/html": [
       "<div>\n",
       "<style>\n",
       "    .dataframe thead tr:only-child th {\n",
       "        text-align: right;\n",
       "    }\n",
       "\n",
       "    .dataframe thead th {\n",
       "        text-align: left;\n",
       "    }\n",
       "\n",
       "    .dataframe tbody tr th {\n",
       "        vertical-align: top;\n",
       "    }\n",
       "</style>\n",
       "<table border=\"1\" class=\"dataframe\">\n",
       "  <thead>\n",
       "    <tr style=\"text-align: right;\">\n",
       "      <th></th>\n",
       "      <th>price</th>\n",
       "      <th>vehicleType</th>\n",
       "      <th>yearOfRegistration</th>\n",
       "      <th>gearbox</th>\n",
       "      <th>powerPS</th>\n",
       "      <th>model</th>\n",
       "      <th>kilometer</th>\n",
       "      <th>fuelType</th>\n",
       "      <th>brand</th>\n",
       "      <th>notRepairedDamage</th>\n",
       "      <th>ageCol</th>\n",
       "    </tr>\n",
       "  </thead>\n",
       "  <tbody>\n",
       "    <tr>\n",
       "      <th>price</th>\n",
       "      <td>1.000000</td>\n",
       "      <td>0.002539</td>\n",
       "      <td>0.585142</td>\n",
       "      <td>-0.324791</td>\n",
       "      <td>0.584823</td>\n",
       "      <td>-0.022703</td>\n",
       "      <td>-0.417055</td>\n",
       "      <td>0.101265</td>\n",
       "      <td>-0.128459</td>\n",
       "      <td>0.014504</td>\n",
       "      <td>-0.585142</td>\n",
       "    </tr>\n",
       "    <tr>\n",
       "      <th>vehicleType</th>\n",
       "      <td>0.002539</td>\n",
       "      <td>1.000000</td>\n",
       "      <td>0.002849</td>\n",
       "      <td>-0.106058</td>\n",
       "      <td>0.120888</td>\n",
       "      <td>-0.146510</td>\n",
       "      <td>0.038787</td>\n",
       "      <td>0.061937</td>\n",
       "      <td>-0.111259</td>\n",
       "      <td>0.013928</td>\n",
       "      <td>-0.002849</td>\n",
       "    </tr>\n",
       "    <tr>\n",
       "      <th>yearOfRegistration</th>\n",
       "      <td>0.585142</td>\n",
       "      <td>0.002849</td>\n",
       "      <td>1.000000</td>\n",
       "      <td>-0.114154</td>\n",
       "      <td>0.204485</td>\n",
       "      <td>0.036086</td>\n",
       "      <td>-0.337254</td>\n",
       "      <td>0.108331</td>\n",
       "      <td>-0.054313</td>\n",
       "      <td>-0.037573</td>\n",
       "      <td>-1.000000</td>\n",
       "    </tr>\n",
       "    <tr>\n",
       "      <th>gearbox</th>\n",
       "      <td>-0.324791</td>\n",
       "      <td>-0.106058</td>\n",
       "      <td>-0.114154</td>\n",
       "      <td>1.000000</td>\n",
       "      <td>-0.432371</td>\n",
       "      <td>0.047687</td>\n",
       "      <td>0.024568</td>\n",
       "      <td>-0.066823</td>\n",
       "      <td>0.125323</td>\n",
       "      <td>0.034082</td>\n",
       "      <td>0.114154</td>\n",
       "    </tr>\n",
       "    <tr>\n",
       "      <th>powerPS</th>\n",
       "      <td>0.584823</td>\n",
       "      <td>0.120888</td>\n",
       "      <td>0.204485</td>\n",
       "      <td>-0.432371</td>\n",
       "      <td>1.000000</td>\n",
       "      <td>-0.127254</td>\n",
       "      <td>-0.012088</td>\n",
       "      <td>0.095142</td>\n",
       "      <td>-0.298663</td>\n",
       "      <td>-0.015633</td>\n",
       "      <td>-0.204485</td>\n",
       "    </tr>\n",
       "    <tr>\n",
       "      <th>model</th>\n",
       "      <td>-0.022703</td>\n",
       "      <td>-0.146510</td>\n",
       "      <td>0.036086</td>\n",
       "      <td>0.047687</td>\n",
       "      <td>-0.127254</td>\n",
       "      <td>1.000000</td>\n",
       "      <td>-0.020525</td>\n",
       "      <td>0.046230</td>\n",
       "      <td>0.474290</td>\n",
       "      <td>0.016095</td>\n",
       "      <td>-0.036086</td>\n",
       "    </tr>\n",
       "    <tr>\n",
       "      <th>kilometer</th>\n",
       "      <td>-0.417055</td>\n",
       "      <td>0.038787</td>\n",
       "      <td>-0.337254</td>\n",
       "      <td>0.024568</td>\n",
       "      <td>-0.012088</td>\n",
       "      <td>-0.020525</td>\n",
       "      <td>1.000000</td>\n",
       "      <td>0.102186</td>\n",
       "      <td>-0.029201</td>\n",
       "      <td>-0.002386</td>\n",
       "      <td>0.337254</td>\n",
       "    </tr>\n",
       "    <tr>\n",
       "      <th>fuelType</th>\n",
       "      <td>0.101265</td>\n",
       "      <td>0.061937</td>\n",
       "      <td>0.108331</td>\n",
       "      <td>-0.066823</td>\n",
       "      <td>0.095142</td>\n",
       "      <td>0.046230</td>\n",
       "      <td>0.102186</td>\n",
       "      <td>1.000000</td>\n",
       "      <td>-0.027156</td>\n",
       "      <td>0.056530</td>\n",
       "      <td>-0.108331</td>\n",
       "    </tr>\n",
       "    <tr>\n",
       "      <th>brand</th>\n",
       "      <td>-0.128459</td>\n",
       "      <td>-0.111259</td>\n",
       "      <td>-0.054313</td>\n",
       "      <td>0.125323</td>\n",
       "      <td>-0.298663</td>\n",
       "      <td>0.474290</td>\n",
       "      <td>-0.029201</td>\n",
       "      <td>-0.027156</td>\n",
       "      <td>1.000000</td>\n",
       "      <td>0.013941</td>\n",
       "      <td>0.054313</td>\n",
       "    </tr>\n",
       "    <tr>\n",
       "      <th>notRepairedDamage</th>\n",
       "      <td>0.014504</td>\n",
       "      <td>0.013928</td>\n",
       "      <td>-0.037573</td>\n",
       "      <td>0.034082</td>\n",
       "      <td>-0.015633</td>\n",
       "      <td>0.016095</td>\n",
       "      <td>-0.002386</td>\n",
       "      <td>0.056530</td>\n",
       "      <td>0.013941</td>\n",
       "      <td>1.000000</td>\n",
       "      <td>0.037573</td>\n",
       "    </tr>\n",
       "    <tr>\n",
       "      <th>ageCol</th>\n",
       "      <td>-0.585142</td>\n",
       "      <td>-0.002849</td>\n",
       "      <td>-1.000000</td>\n",
       "      <td>0.114154</td>\n",
       "      <td>-0.204485</td>\n",
       "      <td>-0.036086</td>\n",
       "      <td>0.337254</td>\n",
       "      <td>-0.108331</td>\n",
       "      <td>0.054313</td>\n",
       "      <td>0.037573</td>\n",
       "      <td>1.000000</td>\n",
       "    </tr>\n",
       "  </tbody>\n",
       "</table>\n",
       "</div>"
      ],
      "text/plain": [
       "                       price  vehicleType  yearOfRegistration   gearbox  \\\n",
       "price               1.000000     0.002539            0.585142 -0.324791   \n",
       "vehicleType         0.002539     1.000000            0.002849 -0.106058   \n",
       "yearOfRegistration  0.585142     0.002849            1.000000 -0.114154   \n",
       "gearbox            -0.324791    -0.106058           -0.114154  1.000000   \n",
       "powerPS             0.584823     0.120888            0.204485 -0.432371   \n",
       "model              -0.022703    -0.146510            0.036086  0.047687   \n",
       "kilometer          -0.417055     0.038787           -0.337254  0.024568   \n",
       "fuelType            0.101265     0.061937            0.108331 -0.066823   \n",
       "brand              -0.128459    -0.111259           -0.054313  0.125323   \n",
       "notRepairedDamage   0.014504     0.013928           -0.037573  0.034082   \n",
       "ageCol             -0.585142    -0.002849           -1.000000  0.114154   \n",
       "\n",
       "                     powerPS     model  kilometer  fuelType     brand  \\\n",
       "price               0.584823 -0.022703  -0.417055  0.101265 -0.128459   \n",
       "vehicleType         0.120888 -0.146510   0.038787  0.061937 -0.111259   \n",
       "yearOfRegistration  0.204485  0.036086  -0.337254  0.108331 -0.054313   \n",
       "gearbox            -0.432371  0.047687   0.024568 -0.066823  0.125323   \n",
       "powerPS             1.000000 -0.127254  -0.012088  0.095142 -0.298663   \n",
       "model              -0.127254  1.000000  -0.020525  0.046230  0.474290   \n",
       "kilometer          -0.012088 -0.020525   1.000000  0.102186 -0.029201   \n",
       "fuelType            0.095142  0.046230   0.102186  1.000000 -0.027156   \n",
       "brand              -0.298663  0.474290  -0.029201 -0.027156  1.000000   \n",
       "notRepairedDamage  -0.015633  0.016095  -0.002386  0.056530  0.013941   \n",
       "ageCol             -0.204485 -0.036086   0.337254 -0.108331  0.054313   \n",
       "\n",
       "                    notRepairedDamage    ageCol  \n",
       "price                        0.014504 -0.585142  \n",
       "vehicleType                  0.013928 -0.002849  \n",
       "yearOfRegistration          -0.037573 -1.000000  \n",
       "gearbox                      0.034082  0.114154  \n",
       "powerPS                     -0.015633 -0.204485  \n",
       "model                        0.016095 -0.036086  \n",
       "kilometer                   -0.002386  0.337254  \n",
       "fuelType                     0.056530 -0.108331  \n",
       "brand                        0.013941  0.054313  \n",
       "notRepairedDamage            1.000000  0.037573  \n",
       "ageCol                       0.037573  1.000000  "
      ]
     },
     "execution_count": 37,
     "metadata": {},
     "output_type": "execute_result"
    },
    {
     "data": {
      "image/png": "[encoded data removed]",
      "text/plain": [
       "<matplotlib.figure.Figure at 0x17b75390828>"
      ]
     },
     "metadata": {},
     "output_type": "display_data"
    }
   ],
   "source": [
    "plot_correlation_map(dedups)\n",
    "dedups.corr()"
   ]
  },
  {
   "cell_type": "code",
   "execution_count": 38,
   "metadata": {},
   "outputs": [],
   "source": [
    "plt.show()\n",
    "#see that yearOfRegistration and ageCol"
   ]
  },
  {
   "cell_type": "code",
   "execution_count": null,
   "metadata": {
    "collapsed": true
   },
   "outputs": [],
   "source": []
  },
  {
   "cell_type": "code",
   "execution_count": null,
   "metadata": {
    "collapsed": true
   },
   "outputs": [],
   "source": []
  },
  {
   "cell_type": "code",
   "execution_count": null,
   "metadata": {
    "collapsed": true
   },
   "outputs": [],
   "source": []
  }
 ],
 "metadata": {
  "anaconda-cloud": {},
  "kernelspec": {
   "display_name": "Python 3",
   "language": "python",
   "name": "python3"
  },
  "language_info": {
   "codemirror_mode": {
    "name": "ipython",
    "version": 3
   },
   "file_extension": ".py",
   "mimetype": "text/x-python",
   "name": "python",
   "nbconvert_exporter": "python",
   "pygments_lexer": "ipython3",
   "version": "3.6.1"
  }
 },
 "nbformat": 4,
 "nbformat_minor": 1
}
